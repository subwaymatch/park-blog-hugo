{
 "cells": [
  {
   "cell_type": "raw",
   "metadata": {},
   "source": [
    "---\n",
    "title: Cleaning Chicago Ridesharing Registered Vehicles Dataset\n",
    "date: 2021-03-12\n",
    "categories:\n",
    "  - Dataset\n",
    "---"
   ]
  },
  {
   "cell_type": "markdown",
   "metadata": {},
   "source": [
    "All vehicles 🚗 reported by Transportation Network Providers (sometimes called rideshare companies) to the City of Chicago as part of routine reporting required by ordinance. Inclusion of a vehicle in a monthly report indicates that the vehicle was eligible for trips in Chicago in that month for at least one day, regardless of whether it actually provided any rides. If a vehicle is eligible in multiple months, which is common, it will have records in each of these reporting months.\n",
    "\n",
    "Source: [Chicago Data Portal Transportation Network Providers - Vehicles](https://data.cityofchicago.org/Transportation/Transportation-Network-Providers-Vehicles/bc6b-sq4u)"
   ]
  },
  {
   "cell_type": "markdown",
   "metadata": {},
   "source": [
    "---\n",
    "\n",
    "## Goal of this Notebook"
   ]
  },
  {
   "cell_type": "markdown",
   "metadata": {},
   "source": [
    "🚀 This notebook will make the dataset more **usable** by perfoming these tasks:\n",
    "\n",
    "- Remove rows with missing values in `MAKE`, `MODEL`, `COLOR`, `YEAR` columns\n",
    "- Only filter vehicles with 100 or more trips\n",
    "- Filter rows with valid State 2-letter codes\n",
    "- Extract Year/Month Reported\n",
    "- Remove make & model combinations that are extremely rare"
   ]
  },
  {
   "cell_type": "code",
   "execution_count": 1,
   "metadata": {},
   "outputs": [],
   "source": [
    "import pandas as pd\n",
    "import numpy as np"
   ]
  },
  {
   "cell_type": "markdown",
   "metadata": {},
   "source": [
    "---\n",
    "\n",
    "## Load Data"
   ]
  },
  {
   "cell_type": "markdown",
   "metadata": {},
   "source": [
    "The dataset can be downloaded at [Chicago Data Portal Transportation Network Providers - Vehicles](https://data.cityofchicago.org/Transportation/Transportation-Network-Providers-Vehicles/bc6b-sq4u) (~350 MB). The dataset contains information about registered ridesharing vehicles in Chicago as of October 30, 2020."
   ]
  },
  {
   "cell_type": "code",
   "execution_count": 2,
   "metadata": {},
   "outputs": [],
   "source": [
    "df = pd.read_csv('Transportation_Network_Providers_-_Vehicles.csv')"
   ]
  },
  {
   "cell_type": "code",
   "execution_count": 3,
   "metadata": {},
   "outputs": [
    {
     "data": {
      "text/html": [
       "<div>\n",
       "<style scoped>\n",
       "    .dataframe tbody tr th:only-of-type {\n",
       "        vertical-align: middle;\n",
       "    }\n",
       "\n",
       "    .dataframe tbody tr th {\n",
       "        vertical-align: top;\n",
       "    }\n",
       "\n",
       "    .dataframe thead th {\n",
       "        text-align: right;\n",
       "    }\n",
       "</style>\n",
       "<table border=\"1\" class=\"dataframe\">\n",
       "  <thead>\n",
       "    <tr style=\"text-align: right;\">\n",
       "      <th></th>\n",
       "      <th>MONTH_REPORTED</th>\n",
       "      <th>STATE</th>\n",
       "      <th>MAKE</th>\n",
       "      <th>MODEL</th>\n",
       "      <th>COLOR</th>\n",
       "      <th>YEAR</th>\n",
       "      <th>LAST_INSPECTION_MONTH</th>\n",
       "      <th>NUMBER_OF_TRIPS</th>\n",
       "      <th>MULTIPLE_TNPS</th>\n",
       "    </tr>\n",
       "  </thead>\n",
       "  <tbody>\n",
       "    <tr>\n",
       "      <th>0</th>\n",
       "      <td>2017-09</td>\n",
       "      <td>IL</td>\n",
       "      <td>Nissan</td>\n",
       "      <td>Pathfinder</td>\n",
       "      <td>Red</td>\n",
       "      <td>2016.0</td>\n",
       "      <td>2017-06</td>\n",
       "      <td>NaN</td>\n",
       "      <td>True</td>\n",
       "    </tr>\n",
       "    <tr>\n",
       "      <th>1</th>\n",
       "      <td>2016-10</td>\n",
       "      <td>IL</td>\n",
       "      <td>Nissan</td>\n",
       "      <td>Altima</td>\n",
       "      <td>NaN</td>\n",
       "      <td>2016.0</td>\n",
       "      <td>NaN</td>\n",
       "      <td>NaN</td>\n",
       "      <td>True</td>\n",
       "    </tr>\n",
       "    <tr>\n",
       "      <th>2</th>\n",
       "      <td>2018-01</td>\n",
       "      <td>IL</td>\n",
       "      <td>Nissan</td>\n",
       "      <td>Altima</td>\n",
       "      <td>Gray</td>\n",
       "      <td>2014.0</td>\n",
       "      <td>2017-10</td>\n",
       "      <td>NaN</td>\n",
       "      <td>True</td>\n",
       "    </tr>\n",
       "  </tbody>\n",
       "</table>\n",
       "</div>"
      ],
      "text/plain": [
       "  MONTH_REPORTED STATE    MAKE       MODEL COLOR    YEAR  \\\n",
       "0        2017-09    IL  Nissan  Pathfinder   Red  2016.0   \n",
       "1        2016-10    IL  Nissan      Altima   NaN  2016.0   \n",
       "2        2018-01    IL  Nissan      Altima  Gray  2014.0   \n",
       "\n",
       "  LAST_INSPECTION_MONTH  NUMBER_OF_TRIPS  MULTIPLE_TNPS  \n",
       "0               2017-06              NaN           True  \n",
       "1                   NaN              NaN           True  \n",
       "2               2017-10              NaN           True  "
      ]
     },
     "execution_count": 3,
     "metadata": {},
     "output_type": "execute_result"
    }
   ],
   "source": [
    "df.head(3)"
   ]
  },
  {
   "cell_type": "markdown",
   "metadata": {},
   "source": [
    "---\n",
    "\n",
    "## Data Overview"
   ]
  },
  {
   "cell_type": "markdown",
   "metadata": {},
   "source": [
    "### Number of rows and columns"
   ]
  },
  {
   "cell_type": "code",
   "execution_count": 4,
   "metadata": {},
   "outputs": [
    {
     "name": "stdout",
     "output_type": "stream",
     "text": [
      "There are 8466571 rows and 9 columns.\n"
     ]
    }
   ],
   "source": [
    "print(f'There are {df.shape[0]} rows and {df.shape[1]} columns.')"
   ]
  },
  {
   "cell_type": "markdown",
   "metadata": {},
   "source": [
    "### Data types"
   ]
  },
  {
   "cell_type": "code",
   "execution_count": 5,
   "metadata": {},
   "outputs": [
    {
     "data": {
      "text/plain": [
       "MONTH_REPORTED            object\n",
       "STATE                     object\n",
       "MAKE                      object\n",
       "MODEL                     object\n",
       "COLOR                     object\n",
       "YEAR                     float64\n",
       "LAST_INSPECTION_MONTH     object\n",
       "NUMBER_OF_TRIPS          float64\n",
       "MULTIPLE_TNPS               bool\n",
       "dtype: object"
      ]
     },
     "execution_count": 5,
     "metadata": {},
     "output_type": "execute_result"
    }
   ],
   "source": [
    "df.dtypes"
   ]
  },
  {
   "cell_type": "markdown",
   "metadata": {},
   "source": [
    "`YEAR` and `NUMBER_OF_TRIPS` are `float64`s since those columns contain missing values."
   ]
  },
  {
   "cell_type": "markdown",
   "metadata": {},
   "source": [
    "### Missing values"
   ]
  },
  {
   "cell_type": "code",
   "execution_count": 6,
   "metadata": {},
   "outputs": [
    {
     "data": {
      "text/plain": [
       "MONTH_REPORTED                 0\n",
       "STATE                      14210\n",
       "MAKE                        5035\n",
       "MODEL                       5053\n",
       "COLOR                     875308\n",
       "YEAR                        5031\n",
       "LAST_INSPECTION_MONTH    2957715\n",
       "NUMBER_OF_TRIPS            14531\n",
       "MULTIPLE_TNPS                  0\n",
       "dtype: int64"
      ]
     },
     "execution_count": 6,
     "metadata": {},
     "output_type": "execute_result"
    }
   ],
   "source": [
    "df.isna().sum()"
   ]
  },
  {
   "cell_type": "markdown",
   "metadata": {},
   "source": [
    "---\n",
    "\n",
    "## Removing Unwanted Rows and Columns"
   ]
  },
  {
   "cell_type": "markdown",
   "metadata": {},
   "source": [
    "### Filtering rows with missing values in columns of interest"
   ]
  },
  {
   "cell_type": "code",
   "execution_count": 7,
   "metadata": {},
   "outputs": [],
   "source": [
    "df.dropna(subset=['MAKE', 'MODEL', 'COLOR', 'YEAR'], inplace=True)"
   ]
  },
  {
   "cell_type": "markdown",
   "metadata": {},
   "source": [
    "### Only select vehicles that had 100 or more trips"
   ]
  },
  {
   "cell_type": "markdown",
   "metadata": {},
   "source": [
    "The filtered dataset will be used to analyze popular cars used by Uber and Lyft drivers. 🚙 We only select rows with 100 or more trips on the corresponding given month."
   ]
  },
  {
   "cell_type": "code",
   "execution_count": 8,
   "metadata": {},
   "outputs": [],
   "source": [
    "df = df[df['NUMBER_OF_TRIPS'] >= 100].copy()"
   ]
  },
  {
   "cell_type": "markdown",
   "metadata": {},
   "source": [
    "### Only filter valid States"
   ]
  },
  {
   "cell_type": "markdown",
   "metadata": {},
   "source": [
    "Count the number of vehicles by State"
   ]
  },
  {
   "cell_type": "code",
   "execution_count": 9,
   "metadata": {},
   "outputs": [
    {
     "data": {
      "text/plain": [
       "IL            1652182\n",
       "IN              24070\n",
       "FL              11257\n",
       "TX               4574\n",
       "CA               4226\n",
       "MI               4053\n",
       "WI               3990\n",
       "OH               2348\n",
       "GA               2294\n",
       "MO               1647\n",
       "IA               1611\n",
       "NY               1607\n",
       "PA               1581\n",
       "NJ               1383\n",
       "VA               1357\n",
       "CO               1191\n",
       "TN               1108\n",
       "LA               1072\n",
       "AZ               1009\n",
       "KY                909\n",
       "WA                831\n",
       "MD                819\n",
       "MN                768\n",
       "ID                704\n",
       "MA                683\n",
       "OK                668\n",
       "SC                627\n",
       "NC                579\n",
       "AL                462\n",
       "MS                438\n",
       "NV                374\n",
       "CT                373\n",
       "AR                292\n",
       "KS                257\n",
       "OR                235\n",
       "NE                225\n",
       "NM                171\n",
       "UT                156\n",
       "ND                154\n",
       "DE                143\n",
       "SD                129\n",
       "WV                113\n",
       "AK                 99\n",
       "RI                 89\n",
       "VT                 37\n",
       "MT                 35\n",
       "ME                 35\n",
       "DC                 30\n",
       "NH                 23\n",
       "HI                 20\n",
       "WY                 12\n",
       "0                  12\n",
       "CALIFORNIA          6\n",
       "LEXUS               4\n",
       "S                   3\n",
       "VIRGINIA            2\n",
       "AS                  1\n",
       "Name: STATE, dtype: int64"
      ]
     },
     "execution_count": 9,
     "metadata": {},
     "output_type": "execute_result"
    }
   ],
   "source": [
    "df['STATE'].value_counts()"
   ]
  },
  {
   "cell_type": "markdown",
   "metadata": {},
   "source": [
    "While most values look valid, there are some rows where the 2-letter codes are invalid. Replace full state names (e.g., \"CALIFORNIA\", \"VIRGINIA) with the 2 letter codes."
   ]
  },
  {
   "cell_type": "code",
   "execution_count": 10,
   "metadata": {},
   "outputs": [],
   "source": [
    "df.loc[df['STATE'] == 'CALIFORNIA', 'STATE'] = 'CA'\n",
    "df.loc[df['STATE'] == 'VIRGINIA', 'STATE'] = 'VA'"
   ]
  },
  {
   "cell_type": "markdown",
   "metadata": {},
   "source": [
    "Drop the other ones."
   ]
  },
  {
   "cell_type": "code",
   "execution_count": 11,
   "metadata": {},
   "outputs": [],
   "source": [
    "# Filter valid states only\n",
    "states = [\"AL\", \"AK\", \"AZ\", \"AR\", \"CA\", \"CO\", \"CT\", \"DC\", \"DE\", \"FL\", \"GA\", \n",
    "          \"HI\", \"ID\", \"IL\", \"IN\", \"IA\", \"KS\", \"KY\", \"LA\", \"ME\", \"MD\", \n",
    "          \"MA\", \"MI\", \"MN\", \"MS\", \"MO\", \"MT\", \"NE\", \"NV\", \"NH\", \"NJ\", \n",
    "          \"NM\", \"NY\", \"NC\", \"ND\", \"OH\", \"OK\", \"OR\", \"PA\", \"RI\", \"SC\", \n",
    "          \"SD\", \"TN\", \"TX\", \"UT\", \"VT\", \"VA\", \"WA\", \"WV\", \"WI\", \"WY\"]\n",
    "df = df[df['STATE'].isin(states)].copy()"
   ]
  },
  {
   "cell_type": "markdown",
   "metadata": {},
   "source": [
    "### Drop `LAST_INSPECTION_MONTH`"
   ]
  },
  {
   "cell_type": "code",
   "execution_count": 12,
   "metadata": {},
   "outputs": [],
   "source": [
    "# Drop LAST_INSPECTION_MONTH column\n",
    "df.drop(columns=['LAST_INSPECTION_MONTH'], inplace=True)"
   ]
  },
  {
   "cell_type": "markdown",
   "metadata": {},
   "source": [
    "## Data Types"
   ]
  },
  {
   "cell_type": "markdown",
   "metadata": {},
   "source": [
    "### Convert `YEAR` and `NUMBER_OF_TRIPS` to integers"
   ]
  },
  {
   "cell_type": "code",
   "execution_count": 13,
   "metadata": {},
   "outputs": [],
   "source": [
    "df['YEAR'] = df['YEAR'].astype(np.int64)\n",
    "df['NUMBER_OF_TRIPS'] = df['NUMBER_OF_TRIPS'].astype(np.int64)"
   ]
  },
  {
   "cell_type": "code",
   "execution_count": 14,
   "metadata": {},
   "outputs": [
    {
     "data": {
      "text/plain": [
       "MONTH_REPORTED     object\n",
       "STATE              object\n",
       "MAKE               object\n",
       "MODEL              object\n",
       "COLOR              object\n",
       "YEAR                int64\n",
       "NUMBER_OF_TRIPS     int64\n",
       "MULTIPLE_TNPS        bool\n",
       "dtype: object"
      ]
     },
     "execution_count": 14,
     "metadata": {},
     "output_type": "execute_result"
    }
   ],
   "source": [
    "df.dtypes"
   ]
  },
  {
   "cell_type": "markdown",
   "metadata": {},
   "source": [
    "## Make & Model"
   ]
  },
  {
   "cell_type": "markdown",
   "metadata": {},
   "source": [
    "### Rename `YEAR` to `MODEL_YEAR`"
   ]
  },
  {
   "cell_type": "code",
   "execution_count": 15,
   "metadata": {},
   "outputs": [],
   "source": [
    "df.rename(columns={'YEAR': 'MODEL_YEAR'}, inplace=True)"
   ]
  },
  {
   "cell_type": "markdown",
   "metadata": {},
   "source": [
    "## Number of registrations by make & model"
   ]
  },
  {
   "cell_type": "code",
   "execution_count": 16,
   "metadata": {},
   "outputs": [
    {
     "data": {
      "text/html": [
       "<div>\n",
       "<style scoped>\n",
       "    .dataframe tbody tr th:only-of-type {\n",
       "        vertical-align: middle;\n",
       "    }\n",
       "\n",
       "    .dataframe tbody tr th {\n",
       "        vertical-align: top;\n",
       "    }\n",
       "\n",
       "    .dataframe thead th {\n",
       "        text-align: right;\n",
       "    }\n",
       "</style>\n",
       "<table border=\"1\" class=\"dataframe\">\n",
       "  <thead>\n",
       "    <tr style=\"text-align: right;\">\n",
       "      <th></th>\n",
       "      <th>MAKE</th>\n",
       "      <th>MODEL</th>\n",
       "      <th>COUNT</th>\n",
       "    </tr>\n",
       "  </thead>\n",
       "  <tbody>\n",
       "    <tr>\n",
       "      <th>0</th>\n",
       "      <td>Acura</td>\n",
       "      <td>3.2 Tl</td>\n",
       "      <td>1</td>\n",
       "    </tr>\n",
       "    <tr>\n",
       "      <th>750</th>\n",
       "      <td>Lincoln</td>\n",
       "      <td>Camry Hybrid</td>\n",
       "      <td>1</td>\n",
       "    </tr>\n",
       "    <tr>\n",
       "      <th>749</th>\n",
       "      <td>Lincoln</td>\n",
       "      <td>Camry</td>\n",
       "      <td>1</td>\n",
       "    </tr>\n",
       "    <tr>\n",
       "      <th>746</th>\n",
       "      <td>Lincoln</td>\n",
       "      <td>Altima</td>\n",
       "      <td>1</td>\n",
       "    </tr>\n",
       "    <tr>\n",
       "      <th>744</th>\n",
       "      <td>Lexus</td>\n",
       "      <td>Ux Hybrid</td>\n",
       "      <td>1</td>\n",
       "    </tr>\n",
       "  </tbody>\n",
       "</table>\n",
       "</div>"
      ],
      "text/plain": [
       "        MAKE         MODEL  COUNT\n",
       "0      Acura        3.2 Tl      1\n",
       "750  Lincoln  Camry Hybrid      1\n",
       "749  Lincoln         Camry      1\n",
       "746  Lincoln        Altima      1\n",
       "744    Lexus     Ux Hybrid      1"
      ]
     },
     "execution_count": 16,
     "metadata": {},
     "output_type": "execute_result"
    }
   ],
   "source": [
    "df_count_by_vehicle = df.groupby(['MAKE', 'MODEL'], as_index=False).agg({\n",
    "    'MODEL_YEAR': 'count'\n",
    "}).rename(columns={\n",
    "    'MODEL_YEAR': 'COUNT'\n",
    "}).sort_values('COUNT')\n",
    "\n",
    "df_count_by_vehicle.head(5)"
   ]
  },
  {
   "cell_type": "markdown",
   "metadata": {},
   "source": [
    "### Remove rows with make & model registrations < 20"
   ]
  },
  {
   "cell_type": "code",
   "execution_count": 17,
   "metadata": {},
   "outputs": [
    {
     "data": {
      "text/html": [
       "<div>\n",
       "<style scoped>\n",
       "    .dataframe tbody tr th:only-of-type {\n",
       "        vertical-align: middle;\n",
       "    }\n",
       "\n",
       "    .dataframe tbody tr th {\n",
       "        vertical-align: top;\n",
       "    }\n",
       "\n",
       "    .dataframe thead th {\n",
       "        text-align: right;\n",
       "    }\n",
       "</style>\n",
       "<table border=\"1\" class=\"dataframe\">\n",
       "  <thead>\n",
       "    <tr style=\"text-align: right;\">\n",
       "      <th></th>\n",
       "      <th>MAKE</th>\n",
       "      <th>MODEL</th>\n",
       "      <th>COUNT</th>\n",
       "    </tr>\n",
       "  </thead>\n",
       "  <tbody>\n",
       "    <tr>\n",
       "      <th>1249</th>\n",
       "      <td>Toyota</td>\n",
       "      <td>Rav</td>\n",
       "      <td>20</td>\n",
       "    </tr>\n",
       "    <tr>\n",
       "      <th>432</th>\n",
       "      <td>Honda</td>\n",
       "      <td>Fit Ev</td>\n",
       "      <td>20</td>\n",
       "    </tr>\n",
       "    <tr>\n",
       "      <th>859</th>\n",
       "      <td>Mercedes Benz</td>\n",
       "      <td>Metris</td>\n",
       "      <td>20</td>\n",
       "    </tr>\n",
       "    <tr>\n",
       "      <th>1082</th>\n",
       "      <td>Saab</td>\n",
       "      <td>42252</td>\n",
       "      <td>20</td>\n",
       "    </tr>\n",
       "    <tr>\n",
       "      <th>689</th>\n",
       "      <td>Lexus</td>\n",
       "      <td>Es300h</td>\n",
       "      <td>20</td>\n",
       "    </tr>\n",
       "    <tr>\n",
       "      <th>842</th>\n",
       "      <td>Mercedes Benz</td>\n",
       "      <td>A Class</td>\n",
       "      <td>20</td>\n",
       "    </tr>\n",
       "    <tr>\n",
       "      <th>1153</th>\n",
       "      <td>Suzuki</td>\n",
       "      <td>Verona</td>\n",
       "      <td>20</td>\n",
       "    </tr>\n",
       "    <tr>\n",
       "      <th>1090</th>\n",
       "      <td>Saab</td>\n",
       "      <td>9 5</td>\n",
       "      <td>20</td>\n",
       "    </tr>\n",
       "    <tr>\n",
       "      <th>741</th>\n",
       "      <td>Lexus</td>\n",
       "      <td>Rx350</td>\n",
       "      <td>20</td>\n",
       "    </tr>\n",
       "    <tr>\n",
       "      <th>1225</th>\n",
       "      <td>Toyota</td>\n",
       "      <td>Land Cruiser</td>\n",
       "      <td>21</td>\n",
       "    </tr>\n",
       "  </tbody>\n",
       "</table>\n",
       "</div>"
      ],
      "text/plain": [
       "               MAKE         MODEL  COUNT\n",
       "1249         Toyota           Rav     20\n",
       "432           Honda        Fit Ev     20\n",
       "859   Mercedes Benz        Metris     20\n",
       "1082           Saab         42252     20\n",
       "689           Lexus        Es300h     20\n",
       "842   Mercedes Benz       A Class     20\n",
       "1153         Suzuki        Verona     20\n",
       "1090           Saab           9 5     20\n",
       "741           Lexus         Rx350     20\n",
       "1225         Toyota  Land Cruiser     21"
      ]
     },
     "execution_count": 17,
     "metadata": {},
     "output_type": "execute_result"
    }
   ],
   "source": [
    "df_count_by_vehicle[df_count_by_vehicle['COUNT'] >= 20].head(10)"
   ]
  },
  {
   "cell_type": "markdown",
   "metadata": {},
   "source": [
    "Find make & model combinations that were registered at least 15 times. The threshold number 15 is purely subjective."
   ]
  },
  {
   "cell_type": "code",
   "execution_count": 18,
   "metadata": {},
   "outputs": [
    {
     "data": {
      "text/plain": [
       "(677, 3)"
      ]
     },
     "execution_count": 18,
     "metadata": {},
     "output_type": "execute_result"
    }
   ],
   "source": [
    "df_threshold = df_count_by_vehicle[df_count_by_vehicle['COUNT'] >= 20]\n",
    "df_threshold.shape"
   ]
  },
  {
   "cell_type": "markdown",
   "metadata": {},
   "source": [
    "Use an inner merge to remove rows where the make & model combinations were too rare."
   ]
  },
  {
   "cell_type": "code",
   "execution_count": 19,
   "metadata": {},
   "outputs": [
    {
     "data": {
      "text/html": [
       "<div>\n",
       "<style scoped>\n",
       "    .dataframe tbody tr th:only-of-type {\n",
       "        vertical-align: middle;\n",
       "    }\n",
       "\n",
       "    .dataframe tbody tr th {\n",
       "        vertical-align: top;\n",
       "    }\n",
       "\n",
       "    .dataframe thead th {\n",
       "        text-align: right;\n",
       "    }\n",
       "</style>\n",
       "<table border=\"1\" class=\"dataframe\">\n",
       "  <thead>\n",
       "    <tr style=\"text-align: right;\">\n",
       "      <th></th>\n",
       "      <th>MONTH_REPORTED</th>\n",
       "      <th>STATE</th>\n",
       "      <th>MAKE</th>\n",
       "      <th>MODEL</th>\n",
       "      <th>COLOR</th>\n",
       "      <th>MODEL_YEAR</th>\n",
       "      <th>NUMBER_OF_TRIPS</th>\n",
       "      <th>MULTIPLE_TNPS</th>\n",
       "    </tr>\n",
       "  </thead>\n",
       "  <tbody>\n",
       "    <tr>\n",
       "      <th>0</th>\n",
       "      <td>2018-01</td>\n",
       "      <td>IL</td>\n",
       "      <td>Toyota</td>\n",
       "      <td>Corolla</td>\n",
       "      <td>Gold</td>\n",
       "      <td>2013</td>\n",
       "      <td>151</td>\n",
       "      <td>False</td>\n",
       "    </tr>\n",
       "    <tr>\n",
       "      <th>1</th>\n",
       "      <td>2017-07</td>\n",
       "      <td>IL</td>\n",
       "      <td>Toyota</td>\n",
       "      <td>Corolla</td>\n",
       "      <td>Dark Red</td>\n",
       "      <td>2009</td>\n",
       "      <td>400</td>\n",
       "      <td>False</td>\n",
       "    </tr>\n",
       "    <tr>\n",
       "      <th>2</th>\n",
       "      <td>2017-08</td>\n",
       "      <td>IL</td>\n",
       "      <td>Toyota</td>\n",
       "      <td>Corolla</td>\n",
       "      <td>Black</td>\n",
       "      <td>2016</td>\n",
       "      <td>362</td>\n",
       "      <td>True</td>\n",
       "    </tr>\n",
       "    <tr>\n",
       "      <th>3</th>\n",
       "      <td>2017-05</td>\n",
       "      <td>IL</td>\n",
       "      <td>Toyota</td>\n",
       "      <td>Corolla</td>\n",
       "      <td>Silver</td>\n",
       "      <td>2016</td>\n",
       "      <td>159</td>\n",
       "      <td>True</td>\n",
       "    </tr>\n",
       "    <tr>\n",
       "      <th>4</th>\n",
       "      <td>2015-08</td>\n",
       "      <td>IL</td>\n",
       "      <td>Toyota</td>\n",
       "      <td>Corolla</td>\n",
       "      <td>Black</td>\n",
       "      <td>2015</td>\n",
       "      <td>113</td>\n",
       "      <td>True</td>\n",
       "    </tr>\n",
       "  </tbody>\n",
       "</table>\n",
       "</div>"
      ],
      "text/plain": [
       "  MONTH_REPORTED STATE    MAKE    MODEL     COLOR  MODEL_YEAR  \\\n",
       "0        2018-01    IL  Toyota  Corolla      Gold        2013   \n",
       "1        2017-07    IL  Toyota  Corolla  Dark Red        2009   \n",
       "2        2017-08    IL  Toyota  Corolla     Black        2016   \n",
       "3        2017-05    IL  Toyota  Corolla    Silver        2016   \n",
       "4        2015-08    IL  Toyota  Corolla     Black        2015   \n",
       "\n",
       "   NUMBER_OF_TRIPS  MULTIPLE_TNPS  \n",
       "0              151          False  \n",
       "1              400          False  \n",
       "2              362           True  \n",
       "3              159           True  \n",
       "4              113           True  "
      ]
     },
     "execution_count": 19,
     "metadata": {},
     "output_type": "execute_result"
    }
   ],
   "source": [
    "df = df.merge(df_threshold[['MAKE', 'MODEL']], how='inner', on=['MAKE', 'MODEL'])\n",
    "df.head(5)"
   ]
  },
  {
   "cell_type": "markdown",
   "metadata": {},
   "source": [
    "## Extract Year/Month Reported"
   ]
  },
  {
   "cell_type": "code",
   "execution_count": 20,
   "metadata": {},
   "outputs": [],
   "source": [
    "df['REPORTED_YEAR'] = df['MONTH_REPORTED'].str[:4].astype(np.int64)\n",
    "df['REPORTED_MONTH'] = df['MONTH_REPORTED'].str[-2:].astype(np.int64)\n",
    "df.drop(columns=['MONTH_REPORTED'], inplace=True)"
   ]
  },
  {
   "cell_type": "code",
   "execution_count": 21,
   "metadata": {},
   "outputs": [
    {
     "data": {
      "text/html": [
       "<div>\n",
       "<style scoped>\n",
       "    .dataframe tbody tr th:only-of-type {\n",
       "        vertical-align: middle;\n",
       "    }\n",
       "\n",
       "    .dataframe tbody tr th {\n",
       "        vertical-align: top;\n",
       "    }\n",
       "\n",
       "    .dataframe thead th {\n",
       "        text-align: right;\n",
       "    }\n",
       "</style>\n",
       "<table border=\"1\" class=\"dataframe\">\n",
       "  <thead>\n",
       "    <tr style=\"text-align: right;\">\n",
       "      <th></th>\n",
       "      <th>STATE</th>\n",
       "      <th>MAKE</th>\n",
       "      <th>MODEL</th>\n",
       "      <th>COLOR</th>\n",
       "      <th>MODEL_YEAR</th>\n",
       "      <th>NUMBER_OF_TRIPS</th>\n",
       "      <th>MULTIPLE_TNPS</th>\n",
       "      <th>REPORTED_YEAR</th>\n",
       "      <th>REPORTED_MONTH</th>\n",
       "    </tr>\n",
       "  </thead>\n",
       "  <tbody>\n",
       "    <tr>\n",
       "      <th>0</th>\n",
       "      <td>IL</td>\n",
       "      <td>Toyota</td>\n",
       "      <td>Corolla</td>\n",
       "      <td>Gold</td>\n",
       "      <td>2013</td>\n",
       "      <td>151</td>\n",
       "      <td>False</td>\n",
       "      <td>2018</td>\n",
       "      <td>1</td>\n",
       "    </tr>\n",
       "    <tr>\n",
       "      <th>1</th>\n",
       "      <td>IL</td>\n",
       "      <td>Toyota</td>\n",
       "      <td>Corolla</td>\n",
       "      <td>Dark Red</td>\n",
       "      <td>2009</td>\n",
       "      <td>400</td>\n",
       "      <td>False</td>\n",
       "      <td>2017</td>\n",
       "      <td>7</td>\n",
       "    </tr>\n",
       "    <tr>\n",
       "      <th>2</th>\n",
       "      <td>IL</td>\n",
       "      <td>Toyota</td>\n",
       "      <td>Corolla</td>\n",
       "      <td>Black</td>\n",
       "      <td>2016</td>\n",
       "      <td>362</td>\n",
       "      <td>True</td>\n",
       "      <td>2017</td>\n",
       "      <td>8</td>\n",
       "    </tr>\n",
       "    <tr>\n",
       "      <th>3</th>\n",
       "      <td>IL</td>\n",
       "      <td>Toyota</td>\n",
       "      <td>Corolla</td>\n",
       "      <td>Silver</td>\n",
       "      <td>2016</td>\n",
       "      <td>159</td>\n",
       "      <td>True</td>\n",
       "      <td>2017</td>\n",
       "      <td>5</td>\n",
       "    </tr>\n",
       "    <tr>\n",
       "      <th>4</th>\n",
       "      <td>IL</td>\n",
       "      <td>Toyota</td>\n",
       "      <td>Corolla</td>\n",
       "      <td>Black</td>\n",
       "      <td>2015</td>\n",
       "      <td>113</td>\n",
       "      <td>True</td>\n",
       "      <td>2015</td>\n",
       "      <td>8</td>\n",
       "    </tr>\n",
       "    <tr>\n",
       "      <th>...</th>\n",
       "      <td>...</td>\n",
       "      <td>...</td>\n",
       "      <td>...</td>\n",
       "      <td>...</td>\n",
       "      <td>...</td>\n",
       "      <td>...</td>\n",
       "      <td>...</td>\n",
       "      <td>...</td>\n",
       "      <td>...</td>\n",
       "    </tr>\n",
       "    <tr>\n",
       "      <th>1729905</th>\n",
       "      <td>NY</td>\n",
       "      <td>Kia</td>\n",
       "      <td>E-Niro</td>\n",
       "      <td>Black</td>\n",
       "      <td>2022</td>\n",
       "      <td>338</td>\n",
       "      <td>False</td>\n",
       "      <td>2022</td>\n",
       "      <td>7</td>\n",
       "    </tr>\n",
       "    <tr>\n",
       "      <th>1729906</th>\n",
       "      <td>IL</td>\n",
       "      <td>Kia</td>\n",
       "      <td>E-Niro</td>\n",
       "      <td>Black</td>\n",
       "      <td>2022</td>\n",
       "      <td>179</td>\n",
       "      <td>False</td>\n",
       "      <td>2022</td>\n",
       "      <td>7</td>\n",
       "    </tr>\n",
       "    <tr>\n",
       "      <th>1729907</th>\n",
       "      <td>IL</td>\n",
       "      <td>Kia</td>\n",
       "      <td>E-Niro</td>\n",
       "      <td>Black</td>\n",
       "      <td>2022</td>\n",
       "      <td>179</td>\n",
       "      <td>False</td>\n",
       "      <td>2022</td>\n",
       "      <td>7</td>\n",
       "    </tr>\n",
       "    <tr>\n",
       "      <th>1729908</th>\n",
       "      <td>NY</td>\n",
       "      <td>Kia</td>\n",
       "      <td>E-Niro</td>\n",
       "      <td>Black</td>\n",
       "      <td>2022</td>\n",
       "      <td>247</td>\n",
       "      <td>False</td>\n",
       "      <td>2022</td>\n",
       "      <td>7</td>\n",
       "    </tr>\n",
       "    <tr>\n",
       "      <th>1729909</th>\n",
       "      <td>NY</td>\n",
       "      <td>Kia</td>\n",
       "      <td>E-Niro</td>\n",
       "      <td>Black</td>\n",
       "      <td>2022</td>\n",
       "      <td>281</td>\n",
       "      <td>False</td>\n",
       "      <td>2022</td>\n",
       "      <td>7</td>\n",
       "    </tr>\n",
       "  </tbody>\n",
       "</table>\n",
       "<p>1729910 rows × 9 columns</p>\n",
       "</div>"
      ],
      "text/plain": [
       "        STATE    MAKE    MODEL     COLOR  MODEL_YEAR  NUMBER_OF_TRIPS  \\\n",
       "0          IL  Toyota  Corolla      Gold        2013              151   \n",
       "1          IL  Toyota  Corolla  Dark Red        2009              400   \n",
       "2          IL  Toyota  Corolla     Black        2016              362   \n",
       "3          IL  Toyota  Corolla    Silver        2016              159   \n",
       "4          IL  Toyota  Corolla     Black        2015              113   \n",
       "...       ...     ...      ...       ...         ...              ...   \n",
       "1729905    NY     Kia   E-Niro     Black        2022              338   \n",
       "1729906    IL     Kia   E-Niro     Black        2022              179   \n",
       "1729907    IL     Kia   E-Niro     Black        2022              179   \n",
       "1729908    NY     Kia   E-Niro     Black        2022              247   \n",
       "1729909    NY     Kia   E-Niro     Black        2022              281   \n",
       "\n",
       "         MULTIPLE_TNPS  REPORTED_YEAR  REPORTED_MONTH  \n",
       "0                False           2018               1  \n",
       "1                False           2017               7  \n",
       "2                 True           2017               8  \n",
       "3                 True           2017               5  \n",
       "4                 True           2015               8  \n",
       "...                ...            ...             ...  \n",
       "1729905          False           2022               7  \n",
       "1729906          False           2022               7  \n",
       "1729907          False           2022               7  \n",
       "1729908          False           2022               7  \n",
       "1729909          False           2022               7  \n",
       "\n",
       "[1729910 rows x 9 columns]"
      ]
     },
     "execution_count": 21,
     "metadata": {},
     "output_type": "execute_result"
    }
   ],
   "source": [
    "df"
   ]
  },
  {
   "cell_type": "markdown",
   "metadata": {},
   "source": [
    "## Rearrange columns"
   ]
  },
  {
   "cell_type": "code",
   "execution_count": 22,
   "metadata": {},
   "outputs": [
    {
     "data": {
      "text/html": [
       "<div>\n",
       "<style scoped>\n",
       "    .dataframe tbody tr th:only-of-type {\n",
       "        vertical-align: middle;\n",
       "    }\n",
       "\n",
       "    .dataframe tbody tr th {\n",
       "        vertical-align: top;\n",
       "    }\n",
       "\n",
       "    .dataframe thead th {\n",
       "        text-align: right;\n",
       "    }\n",
       "</style>\n",
       "<table border=\"1\" class=\"dataframe\">\n",
       "  <thead>\n",
       "    <tr style=\"text-align: right;\">\n",
       "      <th></th>\n",
       "      <th>REPORTED_YEAR</th>\n",
       "      <th>REPORTED_MONTH</th>\n",
       "      <th>STATE</th>\n",
       "      <th>MAKE</th>\n",
       "      <th>MODEL</th>\n",
       "      <th>COLOR</th>\n",
       "      <th>MODEL_YEAR</th>\n",
       "      <th>NUMBER_OF_TRIPS</th>\n",
       "      <th>MULTIPLE_TNPS</th>\n",
       "    </tr>\n",
       "  </thead>\n",
       "  <tbody>\n",
       "    <tr>\n",
       "      <th>0</th>\n",
       "      <td>2018</td>\n",
       "      <td>1</td>\n",
       "      <td>IL</td>\n",
       "      <td>Toyota</td>\n",
       "      <td>Corolla</td>\n",
       "      <td>Gold</td>\n",
       "      <td>2013</td>\n",
       "      <td>151</td>\n",
       "      <td>False</td>\n",
       "    </tr>\n",
       "    <tr>\n",
       "      <th>1</th>\n",
       "      <td>2017</td>\n",
       "      <td>7</td>\n",
       "      <td>IL</td>\n",
       "      <td>Toyota</td>\n",
       "      <td>Corolla</td>\n",
       "      <td>Dark Red</td>\n",
       "      <td>2009</td>\n",
       "      <td>400</td>\n",
       "      <td>False</td>\n",
       "    </tr>\n",
       "  </tbody>\n",
       "</table>\n",
       "</div>"
      ],
      "text/plain": [
       "   REPORTED_YEAR  REPORTED_MONTH STATE    MAKE    MODEL     COLOR  MODEL_YEAR  \\\n",
       "0           2018               1    IL  Toyota  Corolla      Gold        2013   \n",
       "1           2017               7    IL  Toyota  Corolla  Dark Red        2009   \n",
       "\n",
       "   NUMBER_OF_TRIPS  MULTIPLE_TNPS  \n",
       "0              151          False  \n",
       "1              400          False  "
      ]
     },
     "execution_count": 22,
     "metadata": {},
     "output_type": "execute_result"
    }
   ],
   "source": [
    "df = df[['REPORTED_YEAR', 'REPORTED_MONTH', 'STATE', 'MAKE', 'MODEL', 'COLOR', 'MODEL_YEAR', 'NUMBER_OF_TRIPS', 'MULTIPLE_TNPS']]\n",
    "df.head(2)"
   ]
  },
  {
   "cell_type": "markdown",
   "metadata": {},
   "source": [
    "## Shuffle Rows and Sort By Reported Month"
   ]
  },
  {
   "cell_type": "markdown",
   "metadata": {},
   "source": [
    "As a final step, sort the dataset by reported year and month."
   ]
  },
  {
   "cell_type": "code",
   "execution_count": 23,
   "metadata": {},
   "outputs": [],
   "source": [
    "df = df.sample(frac=1).sort_values(['REPORTED_YEAR', 'REPORTED_MONTH']).reset_index(drop=True)"
   ]
  },
  {
   "cell_type": "code",
   "execution_count": 24,
   "metadata": {},
   "outputs": [
    {
     "data": {
      "text/html": [
       "<div>\n",
       "<style scoped>\n",
       "    .dataframe tbody tr th:only-of-type {\n",
       "        vertical-align: middle;\n",
       "    }\n",
       "\n",
       "    .dataframe tbody tr th {\n",
       "        vertical-align: top;\n",
       "    }\n",
       "\n",
       "    .dataframe thead th {\n",
       "        text-align: right;\n",
       "    }\n",
       "</style>\n",
       "<table border=\"1\" class=\"dataframe\">\n",
       "  <thead>\n",
       "    <tr style=\"text-align: right;\">\n",
       "      <th></th>\n",
       "      <th>REPORTED_YEAR</th>\n",
       "      <th>REPORTED_MONTH</th>\n",
       "      <th>STATE</th>\n",
       "      <th>MAKE</th>\n",
       "      <th>MODEL</th>\n",
       "      <th>COLOR</th>\n",
       "      <th>MODEL_YEAR</th>\n",
       "      <th>NUMBER_OF_TRIPS</th>\n",
       "      <th>MULTIPLE_TNPS</th>\n",
       "    </tr>\n",
       "  </thead>\n",
       "  <tbody>\n",
       "    <tr>\n",
       "      <th>0</th>\n",
       "      <td>2015</td>\n",
       "      <td>3</td>\n",
       "      <td>IL</td>\n",
       "      <td>Ford</td>\n",
       "      <td>Explorer</td>\n",
       "      <td>Black</td>\n",
       "      <td>2014</td>\n",
       "      <td>160</td>\n",
       "      <td>False</td>\n",
       "    </tr>\n",
       "    <tr>\n",
       "      <th>1</th>\n",
       "      <td>2015</td>\n",
       "      <td>3</td>\n",
       "      <td>IL</td>\n",
       "      <td>Ford</td>\n",
       "      <td>Escape</td>\n",
       "      <td>Green</td>\n",
       "      <td>2005</td>\n",
       "      <td>255</td>\n",
       "      <td>False</td>\n",
       "    </tr>\n",
       "    <tr>\n",
       "      <th>2</th>\n",
       "      <td>2015</td>\n",
       "      <td>3</td>\n",
       "      <td>IL</td>\n",
       "      <td>Toyota</td>\n",
       "      <td>Highlander Hybrid</td>\n",
       "      <td>White</td>\n",
       "      <td>2011</td>\n",
       "      <td>324</td>\n",
       "      <td>False</td>\n",
       "    </tr>\n",
       "    <tr>\n",
       "      <th>3</th>\n",
       "      <td>2015</td>\n",
       "      <td>3</td>\n",
       "      <td>IL</td>\n",
       "      <td>Honda</td>\n",
       "      <td>Pilot</td>\n",
       "      <td>Black</td>\n",
       "      <td>2011</td>\n",
       "      <td>135</td>\n",
       "      <td>False</td>\n",
       "    </tr>\n",
       "    <tr>\n",
       "      <th>4</th>\n",
       "      <td>2015</td>\n",
       "      <td>3</td>\n",
       "      <td>IL</td>\n",
       "      <td>Bmw</td>\n",
       "      <td>5-Series</td>\n",
       "      <td>Black</td>\n",
       "      <td>2008</td>\n",
       "      <td>558</td>\n",
       "      <td>False</td>\n",
       "    </tr>\n",
       "    <tr>\n",
       "      <th>...</th>\n",
       "      <td>...</td>\n",
       "      <td>...</td>\n",
       "      <td>...</td>\n",
       "      <td>...</td>\n",
       "      <td>...</td>\n",
       "      <td>...</td>\n",
       "      <td>...</td>\n",
       "      <td>...</td>\n",
       "      <td>...</td>\n",
       "    </tr>\n",
       "    <tr>\n",
       "      <th>1729905</th>\n",
       "      <td>2022</td>\n",
       "      <td>7</td>\n",
       "      <td>IL</td>\n",
       "      <td>Buick</td>\n",
       "      <td>Encore</td>\n",
       "      <td>White</td>\n",
       "      <td>2019</td>\n",
       "      <td>134</td>\n",
       "      <td>False</td>\n",
       "    </tr>\n",
       "    <tr>\n",
       "      <th>1729906</th>\n",
       "      <td>2022</td>\n",
       "      <td>7</td>\n",
       "      <td>IL</td>\n",
       "      <td>Toyota</td>\n",
       "      <td>Highlander</td>\n",
       "      <td>White</td>\n",
       "      <td>2012</td>\n",
       "      <td>366</td>\n",
       "      <td>False</td>\n",
       "    </tr>\n",
       "    <tr>\n",
       "      <th>1729907</th>\n",
       "      <td>2022</td>\n",
       "      <td>7</td>\n",
       "      <td>IL</td>\n",
       "      <td>Chevrolet</td>\n",
       "      <td>Impala</td>\n",
       "      <td>Black</td>\n",
       "      <td>2017</td>\n",
       "      <td>157</td>\n",
       "      <td>False</td>\n",
       "    </tr>\n",
       "    <tr>\n",
       "      <th>1729908</th>\n",
       "      <td>2022</td>\n",
       "      <td>7</td>\n",
       "      <td>IL</td>\n",
       "      <td>Honda</td>\n",
       "      <td>Accord</td>\n",
       "      <td>Silver</td>\n",
       "      <td>2018</td>\n",
       "      <td>124</td>\n",
       "      <td>False</td>\n",
       "    </tr>\n",
       "    <tr>\n",
       "      <th>1729909</th>\n",
       "      <td>2022</td>\n",
       "      <td>7</td>\n",
       "      <td>IL</td>\n",
       "      <td>Lexus</td>\n",
       "      <td>Rx</td>\n",
       "      <td>White</td>\n",
       "      <td>2014</td>\n",
       "      <td>105</td>\n",
       "      <td>False</td>\n",
       "    </tr>\n",
       "  </tbody>\n",
       "</table>\n",
       "<p>1729910 rows × 9 columns</p>\n",
       "</div>"
      ],
      "text/plain": [
       "         REPORTED_YEAR  REPORTED_MONTH STATE       MAKE              MODEL  \\\n",
       "0                 2015               3    IL       Ford           Explorer   \n",
       "1                 2015               3    IL       Ford             Escape   \n",
       "2                 2015               3    IL     Toyota  Highlander Hybrid   \n",
       "3                 2015               3    IL      Honda              Pilot   \n",
       "4                 2015               3    IL        Bmw           5-Series   \n",
       "...                ...             ...   ...        ...                ...   \n",
       "1729905           2022               7    IL      Buick             Encore   \n",
       "1729906           2022               7    IL     Toyota         Highlander   \n",
       "1729907           2022               7    IL  Chevrolet             Impala   \n",
       "1729908           2022               7    IL      Honda             Accord   \n",
       "1729909           2022               7    IL      Lexus                 Rx   \n",
       "\n",
       "          COLOR  MODEL_YEAR  NUMBER_OF_TRIPS  MULTIPLE_TNPS  \n",
       "0         Black        2014              160          False  \n",
       "1         Green        2005              255          False  \n",
       "2         White        2011              324          False  \n",
       "3         Black        2011              135          False  \n",
       "4         Black        2008              558          False  \n",
       "...         ...         ...              ...            ...  \n",
       "1729905   White        2019              134          False  \n",
       "1729906   White        2012              366          False  \n",
       "1729907   Black        2017              157          False  \n",
       "1729908  Silver        2018              124          False  \n",
       "1729909   White        2014              105          False  \n",
       "\n",
       "[1729910 rows x 9 columns]"
      ]
     },
     "execution_count": 24,
     "metadata": {},
     "output_type": "execute_result"
    }
   ],
   "source": [
    "df"
   ]
  },
  {
   "cell_type": "code",
   "execution_count": 25,
   "metadata": {},
   "outputs": [],
   "source": [
    "df.to_csv('chicago-ridesharing-vehicles.csv', index=None)"
   ]
  }
 ],
 "metadata": {
  "kernelspec": {
   "display_name": "Python 3 (ipykernel)",
   "language": "python",
   "name": "python3"
  },
  "language_info": {
   "codemirror_mode": {
    "name": "ipython",
    "version": 3
   },
   "file_extension": ".py",
   "mimetype": "text/x-python",
   "name": "python",
   "nbconvert_exporter": "python",
   "pygments_lexer": "ipython3",
   "version": "3.8.3"
  }
 },
 "nbformat": 4,
 "nbformat_minor": 4
}
